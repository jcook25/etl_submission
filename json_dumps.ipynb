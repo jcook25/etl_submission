{
 "cells": [
  {
   "cell_type": "code",
   "execution_count": 5,
   "metadata": {},
   "outputs": [],
   "source": [
    "import json\n",
    "import pandas as pd\n",
    "from sqlalchemy import create_engine\n",
    "from config import password"
   ]
  },
  {
   "cell_type": "code",
   "execution_count": 6,
   "metadata": {},
   "outputs": [],
   "source": [
    "json_file = \"2005_codes.json\"\n",
    "codes_05 = pd.read_json(json_file)"
   ]
  },
  {
   "cell_type": "code",
   "execution_count": 7,
   "metadata": {},
   "outputs": [],
   "source": [
    "import json\n",
    "\n",
    "with open('2005_codes.json', 'r') as json_file:\n",
    "    json_object = json.load(json_file)\n",
    "\n",
    "# print(json.dumps(json_object, indent=1, sort_keys = False))"
   ]
  },
  {
   "cell_type": "code",
   "execution_count": 8,
   "metadata": {},
   "outputs": [
    {
     "data": {
      "text/plain": [
       "{'1': 'RESIDENTS',\n",
       " '2': 'INTRASTATE NONRESIDENTS',\n",
       " '3': 'INTERSTATE NONRESIDENTS',\n",
       " '4': 'FOREIGN RESIDENTS'}"
      ]
     },
     "execution_count": 8,
     "metadata": {},
     "output_type": "execute_result"
    }
   ],
   "source": [
    "json_object[\"resident_status\"]"
   ]
  },
  {
   "cell_type": "code",
   "execution_count": 9,
   "metadata": {},
   "outputs": [
    {
     "data": {
      "text/html": [
       "<div>\n",
       "<style scoped>\n",
       "    .dataframe tbody tr th:only-of-type {\n",
       "        vertical-align: middle;\n",
       "    }\n",
       "\n",
       "    .dataframe tbody tr th {\n",
       "        vertical-align: top;\n",
       "    }\n",
       "\n",
       "    .dataframe thead th {\n",
       "        text-align: right;\n",
       "    }\n",
       "</style>\n",
       "<table border=\"1\" class=\"dataframe\">\n",
       "  <thead>\n",
       "    <tr style=\"text-align: right;\">\n",
       "      <th></th>\n",
       "      <th>index</th>\n",
       "      <th>resident_status</th>\n",
       "    </tr>\n",
       "  </thead>\n",
       "  <tbody>\n",
       "    <tr>\n",
       "      <th>0</th>\n",
       "      <td>1</td>\n",
       "      <td>RESIDENTS</td>\n",
       "    </tr>\n",
       "    <tr>\n",
       "      <th>1</th>\n",
       "      <td>2</td>\n",
       "      <td>INTRASTATE NONRESIDENTS</td>\n",
       "    </tr>\n",
       "    <tr>\n",
       "      <th>2</th>\n",
       "      <td>3</td>\n",
       "      <td>INTERSTATE NONRESIDENTS</td>\n",
       "    </tr>\n",
       "    <tr>\n",
       "      <th>3</th>\n",
       "      <td>4</td>\n",
       "      <td>FOREIGN RESIDENTS</td>\n",
       "    </tr>\n",
       "  </tbody>\n",
       "</table>\n",
       "</div>"
      ],
      "text/plain": [
       "   index          resident_status\n",
       "0      1                RESIDENTS\n",
       "1      2  INTRASTATE NONRESIDENTS\n",
       "2      3  INTERSTATE NONRESIDENTS\n",
       "3      4        FOREIGN RESIDENTS"
      ]
     },
     "execution_count": 9,
     "metadata": {},
     "output_type": "execute_result"
    }
   ],
   "source": [
    "data = {'1': 'RESIDENTS',\n",
    " '2': 'INTRASTATE NONRESIDENTS',\n",
    " '3': 'INTERSTATE NONRESIDENTS',\n",
    " '4': 'FOREIGN RESIDENTS'}\n",
    "status_df = pd.DataFrame.from_dict(data, orient='index',\n",
    "                       columns=['resident_status'])\n",
    "\n",
    "status_df = status_df.reset_index()\n",
    "\n",
    "status_df = status_df.astype({\"index\": int})\n",
    "\n",
    "status_df"
   ]
  },
  {
   "cell_type": "code",
   "execution_count": 10,
   "metadata": {},
   "outputs": [
    {
     "data": {
      "text/plain": [
       "{'1': 'Hospital, clinic or Medical Center',\n",
       " '2': 'Hospital, Clinic or Medical Center',\n",
       " '3': 'Hospital, Clinic or Medical Center',\n",
       " '4': 'Decedent’s home',\n",
       " '5': 'Hospice facility',\n",
       " '6': 'Nursing home/long term care',\n",
       " '7': 'Other',\n",
       " '9': 'Place of death unknown'}"
      ]
     },
     "execution_count": 10,
     "metadata": {},
     "output_type": "execute_result"
    }
   ],
   "source": [
    "json_object['place_of_death_and_decedents_status']"
   ]
  },
  {
   "cell_type": "code",
   "execution_count": 11,
   "metadata": {},
   "outputs": [
    {
     "data": {
      "text/html": [
       "<div>\n",
       "<style scoped>\n",
       "    .dataframe tbody tr th:only-of-type {\n",
       "        vertical-align: middle;\n",
       "    }\n",
       "\n",
       "    .dataframe tbody tr th {\n",
       "        vertical-align: top;\n",
       "    }\n",
       "\n",
       "    .dataframe thead th {\n",
       "        text-align: right;\n",
       "    }\n",
       "</style>\n",
       "<table border=\"1\" class=\"dataframe\">\n",
       "  <thead>\n",
       "    <tr style=\"text-align: right;\">\n",
       "      <th></th>\n",
       "      <th>index</th>\n",
       "      <th>place_of_death</th>\n",
       "    </tr>\n",
       "  </thead>\n",
       "  <tbody>\n",
       "    <tr>\n",
       "      <th>0</th>\n",
       "      <td>1</td>\n",
       "      <td>Hospital, clinic or Medical Center</td>\n",
       "    </tr>\n",
       "    <tr>\n",
       "      <th>1</th>\n",
       "      <td>2</td>\n",
       "      <td>Hospital, Clinic or Medical Center</td>\n",
       "    </tr>\n",
       "    <tr>\n",
       "      <th>2</th>\n",
       "      <td>3</td>\n",
       "      <td>Hospital, Clinic or Medical Center</td>\n",
       "    </tr>\n",
       "    <tr>\n",
       "      <th>3</th>\n",
       "      <td>4</td>\n",
       "      <td>Decedent’s home</td>\n",
       "    </tr>\n",
       "    <tr>\n",
       "      <th>4</th>\n",
       "      <td>5</td>\n",
       "      <td>Hospice facility</td>\n",
       "    </tr>\n",
       "    <tr>\n",
       "      <th>5</th>\n",
       "      <td>6</td>\n",
       "      <td>Nursing home/long term care</td>\n",
       "    </tr>\n",
       "    <tr>\n",
       "      <th>6</th>\n",
       "      <td>7</td>\n",
       "      <td>Other</td>\n",
       "    </tr>\n",
       "    <tr>\n",
       "      <th>7</th>\n",
       "      <td>9</td>\n",
       "      <td>Place of death unknown</td>\n",
       "    </tr>\n",
       "  </tbody>\n",
       "</table>\n",
       "</div>"
      ],
      "text/plain": [
       "   index                      place_of_death\n",
       "0      1  Hospital, clinic or Medical Center\n",
       "1      2  Hospital, Clinic or Medical Center\n",
       "2      3  Hospital, Clinic or Medical Center\n",
       "3      4                     Decedent’s home\n",
       "4      5                    Hospice facility\n",
       "5      6         Nursing home/long term care\n",
       "6      7                               Other\n",
       "7      9              Place of death unknown"
      ]
     },
     "execution_count": 11,
     "metadata": {},
     "output_type": "execute_result"
    }
   ],
   "source": [
    "data = {'1': 'Hospital, clinic or Medical Center',\n",
    " '2': 'Hospital, Clinic or Medical Center',\n",
    " '3': 'Hospital, Clinic or Medical Center',\n",
    " '4': 'Decedent’s home',\n",
    " '5': 'Hospice facility',\n",
    " '6': 'Nursing home/long term care',\n",
    " '7': 'Other',\n",
    " '9': 'Place of death unknown'}\n",
    "\n",
    "place_df = pd.DataFrame.from_dict(data, orient='index',\n",
    "                       columns=['place_of_death'])\n",
    "\n",
    "place_df = place_df.reset_index()\n",
    "\n",
    "place_df = place_df.astype({\"index\": int})\n",
    "\n",
    "place_df"
   ]
  },
  {
   "cell_type": "code",
   "execution_count": 12,
   "metadata": {},
   "outputs": [
    {
     "data": {
      "text/plain": [
       "{'1': 'Accident',\n",
       " '2': 'Suicide',\n",
       " '3': 'Homicide',\n",
       " '4': 'Pending investigation',\n",
       " '5': 'Could not determine',\n",
       " '6': 'Self-Inflicted',\n",
       " '7': 'Natural',\n",
       " 'Blank': 'Not specified'}"
      ]
     },
     "execution_count": 12,
     "metadata": {},
     "output_type": "execute_result"
    }
   ],
   "source": [
    "json_object[\"manner_of_death\"]"
   ]
  },
  {
   "cell_type": "code",
   "execution_count": 13,
   "metadata": {},
   "outputs": [
    {
     "data": {
      "text/html": [
       "<div>\n",
       "<style scoped>\n",
       "    .dataframe tbody tr th:only-of-type {\n",
       "        vertical-align: middle;\n",
       "    }\n",
       "\n",
       "    .dataframe tbody tr th {\n",
       "        vertical-align: top;\n",
       "    }\n",
       "\n",
       "    .dataframe thead th {\n",
       "        text-align: right;\n",
       "    }\n",
       "</style>\n",
       "<table border=\"1\" class=\"dataframe\">\n",
       "  <thead>\n",
       "    <tr style=\"text-align: right;\">\n",
       "      <th></th>\n",
       "      <th>index</th>\n",
       "      <th>manner_of_death</th>\n",
       "    </tr>\n",
       "  </thead>\n",
       "  <tbody>\n",
       "    <tr>\n",
       "      <th>0</th>\n",
       "      <td>1</td>\n",
       "      <td>Accident</td>\n",
       "    </tr>\n",
       "    <tr>\n",
       "      <th>1</th>\n",
       "      <td>2</td>\n",
       "      <td>Suicide</td>\n",
       "    </tr>\n",
       "    <tr>\n",
       "      <th>2</th>\n",
       "      <td>3</td>\n",
       "      <td>Homicide</td>\n",
       "    </tr>\n",
       "    <tr>\n",
       "      <th>3</th>\n",
       "      <td>4</td>\n",
       "      <td>Pending investigation</td>\n",
       "    </tr>\n",
       "    <tr>\n",
       "      <th>4</th>\n",
       "      <td>5</td>\n",
       "      <td>Could not determine</td>\n",
       "    </tr>\n",
       "    <tr>\n",
       "      <th>5</th>\n",
       "      <td>6</td>\n",
       "      <td>Self-Inflicted</td>\n",
       "    </tr>\n",
       "    <tr>\n",
       "      <th>6</th>\n",
       "      <td>7</td>\n",
       "      <td>Natural</td>\n",
       "    </tr>\n",
       "  </tbody>\n",
       "</table>\n",
       "</div>"
      ],
      "text/plain": [
       "   index        manner_of_death\n",
       "0      1               Accident\n",
       "1      2                Suicide\n",
       "2      3               Homicide\n",
       "3      4  Pending investigation\n",
       "4      5    Could not determine\n",
       "5      6         Self-Inflicted\n",
       "6      7                Natural"
      ]
     },
     "execution_count": 13,
     "metadata": {},
     "output_type": "execute_result"
    }
   ],
   "source": [
    "data = {'1': 'Accident',\n",
    " '2': 'Suicide',\n",
    " '3': 'Homicide',\n",
    " '4': 'Pending investigation',\n",
    " '5': 'Could not determine',\n",
    " '6': 'Self-Inflicted',\n",
    " '7': 'Natural'}\n",
    "manner_df = pd.DataFrame.from_dict(data, orient='index',\n",
    "                       columns=['manner_of_death'])\n",
    "\n",
    "manner_df = manner_df.reset_index()\n",
    "\n",
    "manner_df = manner_df.astype({\"index\": int})\n",
    "\n",
    "manner_df"
   ]
  },
  {
   "cell_type": "code",
   "execution_count": 14,
   "metadata": {},
   "outputs": [
    {
     "data": {
      "text/plain": [
       "{'B': 'Burial', 'C': 'Cremation', 'O': 'Other', 'U': 'Unknown'}"
      ]
     },
     "execution_count": 14,
     "metadata": {},
     "output_type": "execute_result"
    }
   ],
   "source": [
    "json_object[\"method_of_disposition\"]"
   ]
  },
  {
   "cell_type": "code",
   "execution_count": 15,
   "metadata": {},
   "outputs": [
    {
     "data": {
      "text/html": [
       "<div>\n",
       "<style scoped>\n",
       "    .dataframe tbody tr th:only-of-type {\n",
       "        vertical-align: middle;\n",
       "    }\n",
       "\n",
       "    .dataframe tbody tr th {\n",
       "        vertical-align: top;\n",
       "    }\n",
       "\n",
       "    .dataframe thead th {\n",
       "        text-align: right;\n",
       "    }\n",
       "</style>\n",
       "<table border=\"1\" class=\"dataframe\">\n",
       "  <thead>\n",
       "    <tr style=\"text-align: right;\">\n",
       "      <th></th>\n",
       "      <th>index</th>\n",
       "      <th>method_of_disposition</th>\n",
       "    </tr>\n",
       "  </thead>\n",
       "  <tbody>\n",
       "    <tr>\n",
       "      <th>0</th>\n",
       "      <td>B</td>\n",
       "      <td>Burial</td>\n",
       "    </tr>\n",
       "    <tr>\n",
       "      <th>1</th>\n",
       "      <td>C</td>\n",
       "      <td>Cremation</td>\n",
       "    </tr>\n",
       "    <tr>\n",
       "      <th>2</th>\n",
       "      <td>O</td>\n",
       "      <td>Other</td>\n",
       "    </tr>\n",
       "    <tr>\n",
       "      <th>3</th>\n",
       "      <td>U</td>\n",
       "      <td>Unknown</td>\n",
       "    </tr>\n",
       "  </tbody>\n",
       "</table>\n",
       "</div>"
      ],
      "text/plain": [
       "  index method_of_disposition\n",
       "0     B                Burial\n",
       "1     C             Cremation\n",
       "2     O                 Other\n",
       "3     U               Unknown"
      ]
     },
     "execution_count": 15,
     "metadata": {},
     "output_type": "execute_result"
    }
   ],
   "source": [
    "data = {'B': 'Burial', 'C': 'Cremation', 'O': 'Other', 'U': 'Unknown'}\n",
    "\n",
    "method_df = pd.DataFrame.from_dict(data, orient='index',\n",
    "                       columns=['method_of_disposition'])\n",
    "\n",
    "method_df = method_df.reset_index()\n",
    "\n",
    "method_df"
   ]
  },
  {
   "cell_type": "code",
   "execution_count": 16,
   "metadata": {},
   "outputs": [],
   "source": [
    "# Connect to local database\n",
    "rds_connection_string = f\"postgres:{password}@localhost:5432/etl_db\"\n",
    "engine = create_engine(f'postgresql://{rds_connection_string}')"
   ]
  },
  {
   "cell_type": "code",
   "execution_count": 17,
   "metadata": {},
   "outputs": [],
   "source": [
    "status_df.to_sql(name='status_key', con=engine, if_exists='replace', index=False)\n",
    "\n",
    "place_df.to_sql(name='place_key', con=engine, if_exists='replace', index=False)\n",
    "\n",
    "manner_df.to_sql(name='manner_key', con=engine, if_exists='replace', index=False)\n",
    "\n",
    "method_df.to_sql(name='method_key', con=engine, if_exists='replace', index=False)"
   ]
  },
  {
   "cell_type": "code",
   "execution_count": null,
   "metadata": {},
   "outputs": [],
   "source": []
  }
 ],
 "metadata": {
  "kernelspec": {
   "display_name": "Python 3",
   "language": "python",
   "name": "python3"
  },
  "language_info": {
   "codemirror_mode": {
    "name": "ipython",
    "version": 3
   },
   "file_extension": ".py",
   "mimetype": "text/x-python",
   "name": "python",
   "nbconvert_exporter": "python",
   "pygments_lexer": "ipython3",
   "version": "3.7.6"
  }
 },
 "nbformat": 4,
 "nbformat_minor": 4
}
